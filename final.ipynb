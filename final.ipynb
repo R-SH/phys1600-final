{
 "cells": [
  {
   "cell_type": "markdown",
   "id": "useful-massachusetts",
   "metadata": {},
   "source": [
    "# Final Project Code"
   ]
  },
  {
   "cell_type": "code",
   "execution_count": 2,
   "id": "adjusted-upgrade",
   "metadata": {},
   "outputs": [],
   "source": [
    "import math\n",
    "import numpy as np\n",
    "import matplotlib.pyplot as plt\n",
    "from scipy.integrate import trapezoid, cumulative_trapezoid, odeint\n",
    "import rootfinder as rtf"
   ]
  },
  {
   "cell_type": "code",
   "execution_count": 3,
   "id": "selective-football",
   "metadata": {},
   "outputs": [],
   "source": [
    "class QM(object):\n",
    "    def __init__(self, Potential, E, npoints, x_start, x_end = 0, u0 = 0.0, v0 = 0.01):\n",
    "        self.Potential = Potential\n",
    "        self.E = E\n",
    "        self.npoints = npoints\n",
    "        self.uv0 = np.array([u0, v0]) # NumPy array with initial position and velocity\n",
    "       \n",
    "        # always want to start at furthest point and go to zero\n",
    "        self.xarray = np.linspace(x_start, x_end, npoints, endpoint = True) # include final timepoint\n",
    "\n",
    "    def scipy_trajectory(self):\n",
    "        \"\"\"calculate trajectory using SciPy ode integrator\"\"\"\n",
    "        self.uv = odeint(self.sch, self.uv0, self.xarray)\n",
    "        self.uv_end = self.uv[-1]\n",
    "\n",
    "\n",
    "    def sch(self, uv, x):\n",
    "    \n",
    "        \"\"\"right hand side of the differential equation\"\"\"\n",
    "        u = uv[1]\n",
    "        v = 2*(self.Potential(x) - self.E)*uv[0]\n",
    "        return np.ravel(np.array([u, v]))"
   ]
  },
  {
   "cell_type": "code",
   "execution_count": 76,
   "id": "delayed-joining",
   "metadata": {},
   "outputs": [],
   "source": [
    "N = 10001\n",
    "bounds = 10.0\n",
    "\n",
    "def hartree_solve(charge, outer, E):\n",
    "    dr = bounds/(N-1)\n",
    "    Potential = lambda r: Qscale*((-Z + np.interp(r, r_points, charge))/r + np.interp(r, r_points, outer))\n",
    "    electron = QM(Potential, E, N, bounds, 0.0, 0.0, -0.01)\n",
    "    electron.scipy_trajectory()\n",
    "    return electron.uv\n",
    "\n",
    "def shoot(charge, outer, n):\n",
    "    dE = 0.3\n",
    "    target = lambda E: hartree_solve(charge, outer, E)[-1,0]\n",
    "    Elow = -10.0\n",
    "    Esol = None\n",
    "    while True:\n",
    "        Esol = rtf.bisect(target, Elow, Elow+dE)\n",
    "        if (Esol):\n",
    "            if (n):\n",
    "                n -= 1\n",
    "            else:\n",
    "                break\n",
    "        Elow += dE\n",
    "    return Esol"
   ]
  },
  {
   "cell_type": "code",
   "execution_count": 104,
   "id": "signal-annual",
   "metadata": {},
   "outputs": [
    {
     "name": "stdout",
     "output_type": "stream",
     "text": [
      "Energies (eV): [0. 0. 0.]\n"
     ]
    },
    {
     "name": "stderr",
     "output_type": "stream",
     "text": [
      "/opt/conda/envs/phys1600/lib/python3.8/site-packages/scipy/integrate/odepack.py:247: ODEintWarning: Excess work done on this call (perhaps wrong Dfun type). Run with full_output = 1 to get quantitative information.\n",
      "  warnings.warn(warning_msg, ODEintWarning)\n",
      "<ipython-input-104-f9c57d4c7c8b>:36: RuntimeWarning: divide by zero encountered in true_divide\n",
      "  outer = (u**2/A)/r_points\n"
     ]
    },
    {
     "name": "stdout",
     "output_type": "stream",
     "text": [
      "Energies (eV): [-219.07749293 -219.07749293  -54.76936743]\n",
      "Energies (eV): [-129.66694647 -129.66694647  -16.76614447]\n",
      "Energies (eV): [-141.49621702 -141.49621702  -17.1088004 ]\n",
      "Energies (eV): [-140.67957771 -140.67957771  -17.04936088]\n",
      "Energies (eV): [-140.78158021 -140.78158021  -17.05589474]\n",
      "Energies (eV): [-140.7705253  -140.7705253   -17.05518251]\n",
      "Energies (eV): [-140.77171749 -140.77171749  -17.05525993]\n",
      "Energies (eV): [-140.77157814 -140.77157814  -17.05525993]\n",
      "Energies (eV): [-140.77159363 -140.77159363  -17.05525993]\n",
      "Total Energy: -389.78945064708404 eV\n"
     ]
    },
    {
     "data": {
      "image/png": "[encoded data removed]",
      "text/plain": [
       "<Figure size 432x288 with 1 Axes>"
      ]
     },
     "metadata": {
      "needs_background": "light"
     },
     "output_type": "display_data"
    }
   ],
   "source": [
    "Z = 4\n",
    "Ne = 3 # Number of electrons\n",
    "a0 = 5.29e-11\n",
    "hbar = 1.05e-34\n",
    "m_e = 9.1e-31\n",
    "e = 1.6e-19\n",
    "Escale = hbar**2/(e*m_e*a0**2)\n",
    "Qscale = e/a0 * 9e9 / Escale\n",
    "\n",
    "r_points = np.linspace(0.0, bounds, N, endpoint=True)\n",
    "E1 = [0]*Ne\n",
    "E0 = [None]*Ne\n",
    "u = np.zeros((Ne, N))\n",
    "cumprob = np.zeros((Ne, N))\n",
    "outer_potential = np.zeros((Ne, N))\n",
    "\n",
    "fig = plt.figure()\n",
    "ax = fig.add_subplot(111)\n",
    "ax.set_title('Be$^{+}$')\n",
    "ax.set_xlabel('r (units of Bohr radius)')\n",
    "ax.set_ylabel('u(r)')\n",
    "\n",
    "while True:\n",
    "    print('Energies (eV):', np.array(E1)*Escale)\n",
    "    for i in range(Ne):\n",
    "        E0[i] = E1[i]\n",
    "        charge = np.sum(cumprob[:i], axis=0) + np.sum(cumprob[i+1:], axis=0) # cumulative charge upto r due to other electrons\n",
    "        outer = np.sum(outer_potential[:i], axis=0) + np.sum(outer_potential[i+1:], axis=0) # potential due to charge beyond r\n",
    "        E1[i] = shoot(charge, outer, i//2)\n",
    "        u[i] = hartree_solve(charge, outer, E1[i])[::-1,0]\n",
    "        if (abs(E1[i]-E0[i]) < 1e-7):\n",
    "            E0[i] = E1[i]\n",
    "    \n",
    "    cumprob = cumulative_trapezoid(u**2, r_points, initial=0.0)\n",
    "    A = cumprob[:,-1].reshape((Ne,1))\n",
    "    outer = (u**2/A)/r_points\n",
    "    outer[:,0] = 0\n",
    "    outer_potential[:,::-1] = cumulative_trapezoid(outer[:,::-1], r_points, initial=0.0)\n",
    "    if (E1 == E0):\n",
    "        u = u/np.sqrt(A)\n",
    "        break\n",
    "        \n",
    "    cumprob /= A\n",
    "\n",
    "Etotal = 0\n",
    "for i in range(Ne):\n",
    "    outer = np.sum(outer_potential[:i], axis=0) + np.sum(outer_potential[i+1:], axis=0)\n",
    "    Edouble = trapezoid(Qscale*u[i]**2*outer, r_points) # Remove double-counted energy\n",
    "    if i % 2 == 0:\n",
    "        ax.plot(r_points, u[i], label=str(round(E1[i]*Escale*100)/100) + 'eV')\n",
    "    Etotal += (E1[i]-Edouble)*Escale\n",
    "ax.legend()\n",
    "print('Total Energy:', Etotal, 'eV')"
   ]
  },
  {
   "cell_type": "code",
   "execution_count": null,
   "id": "described-singer",
   "metadata": {},
   "outputs": [],
   "source": []
  }
 ],
 "metadata": {
  "kernelspec": {
   "display_name": "Python 3",
   "language": "python",
   "name": "phys1600"
  },
  "language_info": {
   "codemirror_mode": {
    "name": "ipython",
    "version": 3
   },
   "file_extension": ".py",
   "mimetype": "text/x-python",
   "name": "python",
   "nbconvert_exporter": "python",
   "pygments_lexer": "ipython3",
   "version": "3.8.6"
  }
 },
 "nbformat": 4,
 "nbformat_minor": 5
}
