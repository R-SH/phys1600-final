{
 "cells": [
  {
   "cell_type": "markdown",
   "id": "interstate-conviction",
   "metadata": {},
   "source": [
    "# Final Project Code"
   ]
  },
  {
   "cell_type": "code",
   "execution_count": null,
   "id": "green-compensation",
   "metadata": {},
   "outputs": [],
   "source": [
    "import math\n",
    "import numpy as np\n",
    "import matplotlib.pyplot as plt\n",
    "from scipy.integrate import cumulative_trapezoid, odeint\n",
    "import rootfinder as rtf"
   ]
  },
  {
   "cell_type": "code",
   "execution_count": null,
   "id": "searching-geometry",
   "metadata": {},
   "outputs": [],
   "source": [
    "class QM(object):\n",
    "    def __init__(self, Potential, E, npoints, x_start, x_end = 0, u0 = 0.0, v0 = 0.01):\n",
    "        self.Potential = Potential\n",
    "        self.E = E\n",
    "        self.npoints = npoints\n",
    "        self.uv0 = np.array([u0, v0]) # NumPy array with initial position and velocity\n",
    "       \n",
    "        # always want to start at furthest point and go to zero\n",
    "        self.xarray = np.linspace(x_start, x_end, npoints, endpoint = True) # include final timepoint\n",
    "\n",
    "    def scipy_trajectory(self):\n",
    "        \"\"\"calculate trajectory using SciPy ode integrator\"\"\"\n",
    "        self.uv = odeint(self.sch, self.uv0, self.xarray)\n",
    "        self.uv_end = self.uv[-1]\n",
    "\n",
    "\n",
    "    def sch(self, uv, x):\n",
    "    \n",
    "        \"\"\"right hand side of the differential equation\"\"\"\n",
    "        u = uv[1]\n",
    "        v = 2*(self.Potential(x) - self.E)*uv[0]\n",
    "        return np.ravel(np.array([u, v]))"
   ]
  },
  {
   "cell_type": "code",
   "execution_count": null,
   "id": "reduced-person",
   "metadata": {},
   "outputs": [],
   "source": [
    "N = 1000\n",
    "bounds = 10.0\n",
    "\n",
    "def hartree_solve(charge, E):\n",
    "    dr = bounds/(N-1)\n",
    "    Potential = lambda r: Qscale*(-Z + np.interp(r, r_points, charge))/r\n",
    "    electron = QM(Potential, E, N, bounds, 0.0, 0.0, -0.01)\n",
    "    electron.scipy_trajectory()\n",
    "    return electron.uv\n",
    "\n",
    "def shoot(charge, n):\n",
    "    dE = 0.3\n",
    "    target = lambda E: hartree_solve(charge, E)[-1,0]\n",
    "    Elow = -10.0\n",
    "    Esol = None\n",
    "    while True:\n",
    "        Esol = rtf.bisect(target, Elow, Elow+dE)\n",
    "        if (Esol):\n",
    "            if (n):\n",
    "                n -= 1\n",
    "            else:\n",
    "                break\n",
    "        Elow += dE\n",
    "    return Esol"
   ]
  },
  {
   "cell_type": "code",
   "execution_count": 58,
   "id": "portable-anxiety",
   "metadata": {},
   "outputs": [
    {
     "data": {
      "image/png": "[encoded data removed]",
      "text/plain": [
       "<Figure size 432x288 with 1 Axes>"
      ]
     },
     "metadata": {
      "needs_background": "light"
     },
     "output_type": "display_data"
    },
    {
     "name": "stdout",
     "output_type": "stream",
     "text": [
      "Total Energy: -385.7085028835678 eV\n"
     ]
    }
   ],
   "source": [
    "Z = 4\n",
    "Ne = 3 # Number of electrons\n",
    "a0 = 5.29e-11\n",
    "hbar = 1.05e-34\n",
    "m_e = 9.1e-31\n",
    "e = 1.6e-19\n",
    "Escale = hbar**2/(e*m_e*a0**2)\n",
    "Qscale = e/a0 * 9e9 / Escale\n",
    "\n",
    "r_points = np.linspace(0.0, bounds, N, endpoint=True)\n",
    "E1 = [0]*Ne\n",
    "E0 = [None]*Ne\n",
    "u = np.zeros((Ne, N))\n",
    "cumprob = np.zeros((Ne, N))\n",
    "\n",
    "while True:\n",
    "    print('Energies (eV):', np.array(E1)*Escale)\n",
    "    for i in range(Ne):\n",
    "        E0[i] = E1[i]\n",
    "        charge = np.sum(cumprob[:i], axis=0) + np.sum(cumprob[i+1:], axis=0) # total charge density due to other electrons\n",
    "        E1[i] = shoot(charge, i//2)\n",
    "        u[i] = np.flip(hartree_solve(charge, E1[i])[:,0])\n",
    "        if (abs(E1[i]-E0[i]) < 1e-7):\n",
    "            E0[i] = E1[i]\n",
    "            \n",
    "    cumprob = cumulative_trapezoid(u**2, r_points, initial=0.0)\n",
    "    A = cumprob[:,-1].reshape((Ne,1))\n",
    "    if (E1 == E0):\n",
    "        u = u/np.sqrt(A)\n",
    "        plt.plot(r_points, u.T)\n",
    "        plt.legend(labels=range(Ne))\n",
    "        plt.show()\n",
    "        break\n",
    "        \n",
    "    cumprob /= A\n",
    "\n",
    "print('Total Energy:', np.sum(np.array(E1))*Escale, 'eV')"
   ]
  },
  {
   "cell_type": "code",
   "execution_count": 59,
   "id": "floating-specification",
   "metadata": {},
   "outputs": [
    {
     "ename": "IndexError",
     "evalue": "index 3 is out of bounds for axis 0 with size 3",
     "output_type": "error",
     "traceback": [
      "\u001b[0;31m---------------------------------------------------------------------------\u001b[0m",
      "\u001b[0;31mIndexError\u001b[0m                                Traceback (most recent call last)",
      "\u001b[0;32m<ipython-input-59-8c004f47b491>\u001b[0m in \u001b[0;36m<module>\u001b[0;34m\u001b[0m\n\u001b[1;32m      4\u001b[0m \u001b[0mu\u001b[0m\u001b[0;34m[\u001b[0m\u001b[0;36m1\u001b[0m\u001b[0;34m]\u001b[0m \u001b[0;34m=\u001b[0m \u001b[0mu\u001b[0m\u001b[0;34m[\u001b[0m\u001b[0;36m0\u001b[0m\u001b[0;34m]\u001b[0m\u001b[0;34m\u001b[0m\u001b[0;34m\u001b[0m\u001b[0m\n\u001b[1;32m      5\u001b[0m \u001b[0mu\u001b[0m\u001b[0;34m[\u001b[0m\u001b[0;36m2\u001b[0m\u001b[0;34m]\u001b[0m \u001b[0;34m=\u001b[0m \u001b[0mr_points\u001b[0m\u001b[0;34m*\u001b[0m\u001b[0;34m(\u001b[0m\u001b[0;36m1\u001b[0m\u001b[0;34m-\u001b[0m\u001b[0mZ\u001b[0m\u001b[0;34m/\u001b[0m\u001b[0;36m2\u001b[0m\u001b[0;34m*\u001b[0m\u001b[0mr_points\u001b[0m\u001b[0;34m)\u001b[0m\u001b[0;34m*\u001b[0m\u001b[0mnp\u001b[0m\u001b[0;34m.\u001b[0m\u001b[0mexp\u001b[0m\u001b[0;34m(\u001b[0m\u001b[0;34m-\u001b[0m\u001b[0mZ\u001b[0m\u001b[0;34m*\u001b[0m\u001b[0mr_points\u001b[0m\u001b[0;34m/\u001b[0m\u001b[0;36m2\u001b[0m\u001b[0;34m)\u001b[0m\u001b[0;34m\u001b[0m\u001b[0;34m\u001b[0m\u001b[0m\n\u001b[0;32m----> 6\u001b[0;31m \u001b[0mu\u001b[0m\u001b[0;34m[\u001b[0m\u001b[0;36m3\u001b[0m\u001b[0;34m]\u001b[0m \u001b[0;34m=\u001b[0m \u001b[0mu\u001b[0m\u001b[0;34m[\u001b[0m\u001b[0;36m2\u001b[0m\u001b[0;34m]\u001b[0m\u001b[0;34m\u001b[0m\u001b[0;34m\u001b[0m\u001b[0m\n\u001b[0m\u001b[1;32m      7\u001b[0m \u001b[0mcumprob\u001b[0m \u001b[0;34m=\u001b[0m \u001b[0mcumulative_trapezoid\u001b[0m\u001b[0;34m(\u001b[0m\u001b[0mu\u001b[0m\u001b[0;34m**\u001b[0m\u001b[0;36m2\u001b[0m\u001b[0;34m,\u001b[0m \u001b[0mr_points\u001b[0m\u001b[0;34m,\u001b[0m \u001b[0minitial\u001b[0m\u001b[0;34m=\u001b[0m\u001b[0;36m0.0\u001b[0m\u001b[0;34m)\u001b[0m\u001b[0;34m\u001b[0m\u001b[0;34m\u001b[0m\u001b[0m\n\u001b[1;32m      8\u001b[0m \u001b[0mA\u001b[0m \u001b[0;34m=\u001b[0m \u001b[0mcumprob\u001b[0m\u001b[0;34m[\u001b[0m\u001b[0;34m:\u001b[0m\u001b[0;34m,\u001b[0m\u001b[0;34m-\u001b[0m\u001b[0;36m1\u001b[0m\u001b[0;34m]\u001b[0m\u001b[0;34m.\u001b[0m\u001b[0mreshape\u001b[0m\u001b[0;34m(\u001b[0m\u001b[0;34m(\u001b[0m\u001b[0mNe\u001b[0m\u001b[0;34m,\u001b[0m\u001b[0;36m1\u001b[0m\u001b[0;34m)\u001b[0m\u001b[0;34m)\u001b[0m\u001b[0;34m\u001b[0m\u001b[0;34m\u001b[0m\u001b[0m\n",
      "\u001b[0;31mIndexError\u001b[0m: index 3 is out of bounds for axis 0 with size 3"
     ]
    }
   ],
   "source": [
    "# Cut Code\n",
    "\n",
    "u[0] = r_points*np.exp(-Z*r_points)\n",
    "u[1] = u[0]\n",
    "u[2] = r_points*(1-Z/2*r_points)*np.exp(-Z*r_points/2)\n",
    "u[3] = u[2]\n",
    "cumprob = cumulative_trapezoid(u**2, r_points, initial=0.0)\n",
    "A = cumprob[:,-1].reshape((Ne,1))\n",
    "cumprob /= A\n",
    "\n",
    "if (i >= 2 and abs(E1[i-1]-E1[i-2]) < 1e-7):\n",
    "            x = E1[i]-E1[i-1]\n",
    "            y = shoot(charge, 1) - E1[i]\n",
    "            d = np.sqrt(x**2+y**2)\n",
    "            t = np.flip(hartree_solve(charge, E1[i]+y)[:,0])\n",
    "            u[i] = x/d*u[i]/np.amax(u[i]) + y/d*t/np.amax(t)"
   ]
  },
  {
   "cell_type": "code",
   "execution_count": null,
   "id": "worse-extra",
   "metadata": {},
   "outputs": [],
   "source": [
    "El.append(np.sum(np.array(E1))*Escale)\n",
    "print(El)\n",
    "print('Difference:', El[-1]-El[-2])"
   ]
  },
  {
   "cell_type": "code",
   "execution_count": null,
   "id": "framed-jacob",
   "metadata": {},
   "outputs": [],
   "source": []
  }
 ],
 "metadata": {
  "kernelspec": {
   "display_name": "Python 3",
   "language": "python",
   "name": "phys1600"
  },
  "language_info": {
   "codemirror_mode": {
    "name": "ipython",
    "version": 3
   },
   "file_extension": ".py",
   "mimetype": "text/x-python",
   "name": "python",
   "nbconvert_exporter": "python",
   "pygments_lexer": "ipython3",
   "version": "3.8.6"
  }
 },
 "nbformat": 4,
 "nbformat_minor": 5
}
